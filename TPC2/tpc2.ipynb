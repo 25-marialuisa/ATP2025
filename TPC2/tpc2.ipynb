{
 "cells": [
  {
   "cell_type": "code",
   "execution_count": 14,
   "id": "35fddbf0",
   "metadata": {},
   "outputs": [
    {
     "name": "stdout",
     "output_type": "stream",
     "text": [
      "O computador tirou 3 fósforos\n",
      "Restam 18 fósforos\n",
      "Restam 17 fósforos\n",
      "O computador tirou 1 fósforos\n",
      "Restam 14 fósforos\n",
      "Restam 10 fósforos\n",
      "O computador tirou 4 fósforos\n",
      "Restam 6 fósforos\n",
      "Restam 5 fósforos\n",
      "O computador tirou 4 fósforos\n",
      "Restam 1 fósforos\n",
      "Restam 0 fósforos\n",
      "Você perdeu!\n"
     ]
    }
   ],
   "source": [
    "x=21\n",
    "jogador = int(input(\"Quer jogar em primeiro ou em segundo lugar? (1/2)\"))\n",
    "if jogador == 1:\n",
    "    while x > 0:\n",
    "        y=5\n",
    "        n=int(input(\"Quantos fósforos queres retirar? (1,2,3,4) \"))\n",
    "        while n<1 or n>4 or n>x:\n",
    "          print (\"Número inválido\")\n",
    "          n=int(input(\"Quantos fósforos queres retirar? (1,2,3,4) \"))\n",
    "        x=x-n\n",
    "        print(f\"Faltam {x} fósforos\")\n",
    "        y=y-n\n",
    "        print(f\"O computador retira {y} fósforos\")\n",
    "        x=x-y\n",
    "        print(f\"Faltam {x} fósforos\")\n",
    "        if x<=1:\n",
    "            print(\"Perdeste, o computador ganhou!\")\n",
    "            break\n",
    "elif jogador == 2:\n",
    "    while x > 0:\n",
    "        if x==1:\n",
    "            print(\"o computador tirou 1 fósforo\")\n",
    "            print(\"O computador perdeu!\")\n",
    "            break\n",
    "        elif x % 5 == 1:\n",
    "            y = random.randint(1, 4)\n",
    "            print(\"O computador tirou\", y, \"fósforos\")\n",
    "            x =x-y\n",
    "        else:\n",
    "            y = x % 5\n",
    "            if y == 0:\n",
    "                y = 4\n",
    "                print(\"O computador tirou\", y, \"fósforos\")\n",
    "                x =x-y\n",
    "            else:\n",
    "                print(\"O computador tirou\", y-1, \"fósforos\")\n",
    "                x=x-y-1\n",
    "        print(\"Restam\", x, \"fósforos\")\n",
    "        n = int(input(\"Quantos fósforos queres tirar? (1,2,3,4) \"))\n",
    "        while n not in [1, 2, 3, 4] or n > x:\n",
    "            print(\"Número inválido\")\n",
    "            n = int(input(\"Quantos fósforos queres tirar? (1,2,3,4) \"))\n",
    "        x =x-n\n",
    "        print(\"Restam\", x, \"fósforos\")\n",
    "        if x == 0:\n",
    "            print(\"Você perdeu!\")\n"
   ]
  }
 ],
 "metadata": {
  "kernelspec": {
   "display_name": "Python 3",
   "language": "python",
   "name": "python3"
  },
  "language_info": {
   "codemirror_mode": {
    "name": "ipython",
    "version": 3
   },
   "file_extension": ".py",
   "mimetype": "text/x-python",
   "name": "python",
   "nbconvert_exporter": "python",
   "pygments_lexer": "ipython3",
   "version": "3.13.7"
  }
 },
 "nbformat": 4,
 "nbformat_minor": 5
}
